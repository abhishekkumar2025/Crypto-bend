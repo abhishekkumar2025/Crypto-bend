{
  "nbformat": 4,
  "nbformat_minor": 0,
  "metadata": {
    "colab": {
      "provenance": []
    },
    "kernelspec": {
      "name": "python3",
      "display_name": "Python 3"
    },
    "language_info": {
      "name": "python"
    }
  },
  "cells": [
    {
      "cell_type": "code",
      "execution_count": null,
      "metadata": {
        "colab": {
          "base_uri": "https://localhost:8080/"
        },
        "id": "TzUElQBnCCTB",
        "outputId": "4af88ffd-dc13-4ac6-dd46-5177603bbfbe"
      },
      "outputs": [
        {
          "output_type": "stream",
          "name": "stdout",
          "text": [
            "                timestamp         price\n",
            "0 2024-11-24 05:05:36.582  98300.808029\n",
            "1 2024-11-24 06:10:46.669  98321.946200\n",
            "2 2024-11-24 07:02:26.079  98473.089148\n",
            "3 2024-11-24 08:08:14.166  98553.767530\n",
            "4 2024-11-24 09:01:43.748  98207.045810\n"
          ]
        }
      ],
      "source": [
        "import requests\n",
        "import pandas as pd\n",
        "\n",
        "def fetch_crypto_data(symbol, days=90):\n",
        "    \"\"\"Fetch historical price data for a given cryptocurrency symbol\"\"\"\n",
        "    url = f\"https://api.coingecko.com/api/v3/coins/{symbol}/market_chart?vs_currency=usd&days={days}\"\n",
        "    response = requests.get(url)\n",
        "    data = response.json()\n",
        "\n",
        "    # Convert to DataFrame\n",
        "    df = pd.DataFrame(data[\"prices\"], columns=[\"timestamp\", \"price\"])\n",
        "    df[\"timestamp\"] = pd.to_datetime(df[\"timestamp\"], unit=\"ms\")\n",
        "\n",
        "    return df\n",
        "\n",
        "# Example usage\n",
        "coin = \"bitcoin\"  # Change to any symbol like 'ethereum', 'cardano'\n",
        "df = fetch_crypto_data(coin)\n",
        "print(df.head())\n"
      ]
    },
    {
      "cell_type": "code",
      "source": [
        "from xgboost import XGBRegressor\n",
        "from sklearn.model_selection import train_test_split\n",
        "\n",
        "def train_model(df):\n",
        "    \"\"\"Train XGBoost model on given crypto price data\"\"\"\n",
        "    df[\"MA_3\"] = df[\"price\"].rolling(window=3).mean()\n",
        "    df[\"MA_7\"] = df[\"price\"].rolling(window=7).mean()\n",
        "    df[\"Price_Change_%\"] = df[\"price\"].pct_change() * 100\n",
        "    df.dropna(inplace=True)\n",
        "\n",
        "    X = df[[\"MA_3\", \"MA_7\", \"Price_Change_%\"]]\n",
        "    y = df[\"price\"]\n",
        "\n",
        "    X_train, X_test, y_train, y_test = train_test_split(X, y, test_size=0.2, shuffle=False)\n",
        "\n",
        "    model = XGBRegressor(n_estimators=200, learning_rate=0.05, max_depth=3)\n",
        "    model.fit(X_train, y_train)\n",
        "\n",
        "    return model, X\n",
        "\n",
        "# Train model on dynamically fetched data\n",
        "model, X = train_model(df)\n"
      ],
      "metadata": {
        "id": "7kyuMgfoCJMX"
      },
      "execution_count": null,
      "outputs": []
    },
    {
      "cell_type": "code",
      "source": [
        "def predict_next_price(model, X):\n",
        "    \"\"\"Predict the next hour's price\"\"\"\n",
        "    latest_features = X.iloc[-1].values.reshape(1, -1)\n",
        "    next_price = model.predict(latest_features)\n",
        "    return next_price[0]\n",
        "\n",
        "# Get prediction\n",
        "predicted_price = predict_next_price(model, X)\n",
        "print(f\"💰 Predicted Next Price: {predicted_price}\")\n"
      ],
      "metadata": {
        "colab": {
          "base_uri": "https://localhost:8080/"
        },
        "id": "gj15tAFHCSF_",
        "outputId": "6ed32425-9255-44f2-8d6d-0f2298e8c60b"
      },
      "execution_count": null,
      "outputs": [
        {
          "output_type": "stream",
          "name": "stdout",
          "text": [
            "💰 Predicted Next Price: 96432.09375\n"
          ]
        }
      ]
    },
    {
      "cell_type": "code",
      "source": [
        "coin_symbol = input(\"Enter the crypto symbol (e.g., bitcoin, ethereum): \").lower()\n",
        "df = fetch_crypto_data(coin_symbol)\n",
        "model, X = train_model(df)\n",
        "predicted_price = predict_next_price(model, X)\n",
        "\n",
        "print(f\"🔮 Predicted Next Price for {coin_symbol.upper()}: ${predicted_price:.2f}\")\n"
      ],
      "metadata": {
        "colab": {
          "base_uri": "https://localhost:8080/"
        },
        "id": "4GlkR8LvCVg8",
        "outputId": "f09778d6-4701-4c96-f22e-d7d24208ebb4"
      },
      "execution_count": null,
      "outputs": [
        {
          "output_type": "stream",
          "name": "stdout",
          "text": [
            "Enter the crypto symbol (e.g., bitcoin, ethereum): ethereum\n",
            "🔮 Predicted Next Price for ETHEREUM: $2598.93\n"
          ]
        }
      ]
    },
    {
      "cell_type": "code",
      "source": [],
      "metadata": {
        "id": "tLm4Sv7ICZz5"
      },
      "execution_count": null,
      "outputs": []
    }
  ]
}